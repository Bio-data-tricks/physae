{
 "cells": [
  {
   "cell_type": "markdown",
   "metadata": {},
   "source": [
    "# Entraînement PhysAE étape par étape\n",
    "Ce notebook remplace les anciens workflows et propose un canevas clair pour lancer l'entraînement des stages A, B1 et B2.\n",
    "- Modifiez les dictionnaires pour personnaliser les hyperparamètres.\n",
    "- Les paramètres disponibles sont listés ci-dessous pour les données et pour chaque stage.\n",
    "- Toutes les commandes peuvent être exécutées directement telles quelles ou adaptées à vos besoins."
   ]
  },
  {
   "cell_type": "code",
   "execution_count": null,
   "metadata": {},
   "outputs": [],
   "source": [
    "import pandas as pd\n",
    "from physae.parameter_catalog import (",
    "    TRAINER_PARAMETER_INFO,\n",
    "    describe_parameters,\n",
    "    list_data_parameters,\n",
    "    list_stage_parameters,\n",
    ")"
   ]
  },
  {
   "cell_type": "markdown",
   "metadata": {},
   "source": [
    "## Paramètres des données\n",
    "Chaque entrée peut être surchargée via le dictionnaire `data_overrides`."
   ]
  },
  {
   "cell_type": "code",
   "execution_count": null,
   "metadata": {},
   "outputs": [],
   "source": [
    "pd.DataFrame(describe_parameters(list_data_parameters()))"
   ]
  },
  {
   "cell_type": "markdown",
   "metadata": {},
   "source": [
    "## Choix du stage et paramètres associés\n",
    "Définissez le stage à entraîner (`\"A\"`, `\"B1\"` ou `\"B2\"`) puis inspectez ses paramètres."
   ]
  },
  {
   "cell_type": "code",
   "execution_count": null,
   "metadata": {},
   "outputs": [],
   "source": [
    "stage = \"A\"  # Modifier en \"B1\" ou \"B2\" selon le besoin\n",
    "pd.DataFrame(describe_parameters(list_stage_parameters(stage)))"
   ]
  },
  {
   "cell_type": "markdown",
   "metadata": {},
   "source": [
    "## Définition des overrides\n",
    "Modifiez les dictionnaires ci-dessous pour adapter les hyperparamètres données/stage et les options du Trainer Lightning.\n",
    "Les clés suivent la notation pointée (exemple : `model.encoder.params.width_mult`)."
   ]
  },
  {
   "cell_type": "code",
   "execution_count": null,
   "metadata": {},
   "outputs": [],
   "source": [
    "data_overrides = {\n",
    "    # \"batch_size\": 32,\n",
    "    # \"noise.train.std_add_range\": [0.0, 0.02],\n",
    "}\n",
    "\n",
    "stage_overrides = {\n",
    "    # \"epochs\": 25,\n",
    "    # \"base_lr\": 2e-4,\n",
    "    # \"model.encoder.params.width_mult\": 1.2,\n",
    "}\n",
    "\n",
    "trainer_kwargs = {\n",
    "    \"accelerator\": \"auto\",\n",
    "    \"devices\": \"auto\",\n",
    "    # \"precision\": 16,\n",
    "}\n",
    "\n",
    "TRAINER_PARAMETER_INFO"
   ]
  },
  {
   "cell_type": "markdown",
   "metadata": {},
   "source": [
    "## Lancer l'entraînement pour un stage unique\n",
    "La cellule ci-dessous lance l'entraînement du stage sélectionné avec les overrides définis. Les métriques retournées et le chemin du dernier checkpoint sont affichés." 
   ]
  },
  {
   "cell_type": "code",
   "execution_count": null,
   "metadata": {},
   "outputs": [],
   "source": [
    "from physae.simple_workflows import StageRunConfig, run_single_stage\n",
    "\n",
    "single_stage_config = StageRunConfig(\n",
    "    stage=stage,\n",
    "    data_overrides=data_overrides,\n",
    "    stage_overrides=stage_overrides,\n",
    "    trainer_kwargs=trainer_kwargs,\n",
    "    ckpt_dir=\"checkpoints_single_stage\",\n",
    ")\n",
    "metrics, last_ckpt = run_single_stage(single_stage_config)\n",
    "metrics, last_ckpt"
   ]
  },
  {
   "cell_type": "markdown",
   "metadata": {},
   "source": [
    "## Chaîner plusieurs stages (A → B1 → B2)\n",
    "Utilisez la configuration suivante pour entraîner plusieurs stages consécutivement. Vous pouvez définir des overrides spécifiques à chaque stage dans `sequence_stage_overrides`.\n",
    "Si vous souhaitez uniquement affiner le stage B2 à partir d'un checkpoint existant, activez `fine_tune_only=True`."]
  },
  {
   "cell_type": "code",
   "execution_count": null,
   "metadata": {},
   "outputs": [],
   "source": [
    "from physae.simple_workflows import StageSequenceConfig, run_stage_sequence\n",
    "\n",
    "sequence_stage_overrides = {\n",
    "    \"A\": {\n",
    "        # \"epochs\": 20,\n",
    "    },\n",
    "    \"B1\": {\n",
    "        # \"refine_steps\": 2,\n",
    "    },\n",
    "    \"B2\": {\n",
    "        # \"delta_scale\": 0.1,\n",
    "    },\n",
    "}\n",
    "\n",
    "sequence_config = StageSequenceConfig(\n",
    "    stages=[\"A\", \"B\"],  # \"B\" regroupe automatiquement B1 et B2\n",
    "    data_overrides=data_overrides,\n",
    "    stage_overrides=sequence_stage_overrides,\n",
    "    trainer_kwargs=trainer_kwargs,\n",
    "    ckpt_dir=\"checkpoints_sequence\",\n",
    "    fine_tune_only=False,\n",
    ")\n",
    "sequence_result = run_stage_sequence(sequence_config)\n",
    "sequence_result.metrics, sequence_result.last_checkpoint"
   ]
  },
  {
   "cell_type": "markdown",
   "metadata": {},
   "source": [
    "## Fine-tuning du stage B2 uniquement\n",
    "Pour relancer un affinement sur B2 depuis les derniers checkpoints, utilisez la configuration suivante (assurez-vous que `ckpt_dir` contient déjà un checkpoint `stage_B2.ckpt`)."
   ]
  },
  {
   "cell_type": "code",
   "execution_count": null,
   "metadata": {},
   "outputs": [],
   "source": [
    "fine_tune_config = StageSequenceConfig(\n",
    "    stages=[\"B\"],\n",
    "    data_overrides=data_overrides,\n",
    "    stage_overrides={\n",
    "        \"B2\": {\n",
    "            # \"epochs\": 10,\n",
    "            # \"ckpt_in\": \"checkpoints_sequence/stage_B2.ckpt\",\n",
    "        }\n",
    "    },\n",
    "    trainer_kwargs=trainer_kwargs,\n",
    "    ckpt_dir=\"checkpoints_finetune\",\n",
    "    fine_tune_only=True,\n",
    ")\n",
    "fine_tune_result = run_stage_sequence(fine_tune_config)\n",
    "fine_tune_result.metrics, fine_tune_result.last_checkpoint"
   ]
  }
 ],
 "metadata": {
  "kernelspec": {
   "display_name": "Python 3",
   "language": "python",
   "name": "python3"
  },
  "language_info": {
   "name": "python",
   "version": "3.10"
  }
 },
 "nbformat": 4,
 "nbformat_minor": 5
}
