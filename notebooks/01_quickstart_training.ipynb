{
  "cells": [
    {
      "cell_type": "markdown",
      "metadata": {},
      "source": [
        "            # PhysAE – démarrage rapide entraînement\n",
        "\n",
        "            Ce carnet montre comment préparer les données, instancier le modèle et\n",
        "            enchaîner les trois stages d'entraînement avec des configurations\n",
        "            allégées pour une exécution locale rapide.\n",
        "            \n"
      ]
    },
    {
      "cell_type": "markdown",
      "metadata": {},
      "source": [
        "            ## 1. Installation et import\n",
        "\n",
        "            Assurez-vous d'être dans un environnement où PhysAE est installé en\n",
        "            mode développement (`pip install -e .[docs]`).\n",
        "            Les importations ci-dessous centralisent tous les modules utilisés\n",
        "            dans le carnet.\n",
        "            \n"
      ]
    },
    {
      "cell_type": "code",
      "metadata": {
        "collapsed": false
      },
      "execution_count": null,
      "outputs": [],
      "source": [
        "            from pathlib import Path\n",
        "\n",
        "            from physae.factory import build_data_and_model\n",
        "            from physae.training import train_stage_A, train_stage_B1, train_stage_B2\n",
        "            from physae.config_loader import merge_dicts\n",
        "\n",
        "            ARTIFACT_DIR = Path('artifacts/quickstart')\n",
        "            ARTIFACT_DIR.mkdir(parents=True, exist_ok=True)\n",
        "            print('Dossier de sortie :', ARTIFACT_DIR.resolve())\n",
        "            \n"
      ]
    },
    {
      "cell_type": "markdown",
      "metadata": {},
      "source": [
        "            ## 2. Chargement et adaptation de la configuration\n",
        "\n",
        "            Nous réduisons le nombre d'échantillons et la taille des lots pour\n",
        "            pouvoir tester la boucle d'entraînement en quelques minutes sur CPU.\n",
        "            \n"
      ]
    },
    {
      "cell_type": "code",
      "metadata": {},
      "execution_count": null,
      "outputs": [],
      "source": [
        "            data_overrides = {\n",
        "                'n_train': 1024,\n",
        "                'n_val': 128,\n",
        "                'batch_size': 8,\n",
        "            }\n",
        "            stageA_overrides = {'epochs': 5, 'enable_progress_bar': True}\n",
        "            stageB1_overrides = {'epochs': 4, 'enable_progress_bar': True}\n",
        "            stageB2_overrides = {'epochs': 6, 'enable_progress_bar': True}\n",
        "\n",
        "            model, train_loader, val_loader = build_data_and_model(config_overrides=data_overrides)\n",
        "            print(f'Train loader: {len(train_loader)} batches - batch_size={train_loader.batch_size}')\n",
        "            print(f'Val loader: {len(val_loader)} batches')\n",
        "            \n"
      ]
    },
    {
      "cell_type": "markdown",
      "metadata": {},
      "source": [
        "            ## 3. Exécution des stages\n",
        "\n",
        "            Chaque fonction `train_stage_*` applique les réglages définis dans\n",
        "            `physae/configs/stages`. Nous pouvons injecter des surcharges\n",
        "            supplémentaires à l'aide du paramètre `config_overrides`.\n",
        "            \n"
      ]
    },
    {
      "cell_type": "code",
      "metadata": {},
      "execution_count": null,
      "outputs": [],
      "source": [
        "            stage_A_cfg = merge_dicts({'config_overrides': stageA_overrides}, {})\n",
        "            stage_B1_cfg = merge_dicts({'config_overrides': stageB1_overrides}, {})\n",
        "            stage_B2_cfg = merge_dicts({'config_overrides': stageB2_overrides}, {})\n",
        "\n",
        "            train_stage_A(model, train_loader, val_loader, ckpt_out=str(ARTIFACT_DIR/'stage_A.ckpt'), **stage_A_cfg)\n",
        "            train_stage_B1(\n",
        "                model,\n",
        "                train_loader,\n",
        "                val_loader,\n",
        "                ckpt_in=str(ARTIFACT_DIR/'stage_A.ckpt'),\n",
        "                ckpt_out=str(ARTIFACT_DIR/'stage_B1.ckpt'),\n",
        "                **stage_B1_cfg,\n",
        "            )\n",
        "            train_stage_B2(\n",
        "                model,\n",
        "                train_loader,\n",
        "                val_loader,\n",
        "                ckpt_in=str(ARTIFACT_DIR/'stage_B1.ckpt'),\n",
        "                ckpt_out=str(ARTIFACT_DIR/'stage_B2.ckpt'),\n",
        "                **stage_B2_cfg,\n",
        "            )\n",
        "            \n"
      ]
    },
    {
      "cell_type": "markdown",
      "metadata": {},
      "source": [
        "            ## 4. Inspection rapide des métriques\n",
        "\n",
        "            Après l'entraînement, on peut charger le dernier checkpoint et\n",
        "            utiliser `evaluate_and_plot` pour visualiser quelques reconstructions.\n",
        "            \n"
      ]
    },
    {
      "cell_type": "code",
      "metadata": {},
      "execution_count": null,
      "outputs": [],
      "source": [
        "            from physae.evaluation import evaluate_and_plot\n",
        "            import torch\n",
        "\n",
        "            model_ckpt = type(model).load_from_checkpoint(str(ARTIFACT_DIR/'stage_B2.ckpt'))\n",
        "            model_ckpt.eval()\n",
        "            if torch.cuda.is_available():\n",
        "                model_ckpt.cuda()\n",
        "            metrics_df = evaluate_and_plot(model_ckpt, val_loader, n_show=3, refine=True)\n",
        "            metrics_df\n",
        "            \n"
      ]
    }
  ],
  "metadata": {
    "kernelspec": {
      "display_name": "Python 3",
      "language": "python",
      "name": "python3"
    },
    "language_info": {
      "name": "python",
      "version": "3.10"
    }
  },
  "nbformat": 4,
  "nbformat_minor": 5
}