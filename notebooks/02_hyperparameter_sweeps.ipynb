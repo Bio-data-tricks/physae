{
  "cells": [
    {
      "cell_type": "markdown",
      "metadata": {},
      "source": [
        "            # PhysAE – optimisation d'hyperparamètres avec Optuna\n",
        "\n",
        "            Ce carnet configure une étude Optuna ciblant la phase B1 et analyse les\n",
        "            résultats pour mettre à jour les fichiers YAML.\n",
        "            \n"
      ]
    },
    {
      "cell_type": "markdown",
      "metadata": {},
      "source": [
        "            ## 1. Préparation\n",
        "\n",
        "            Nous réutilisons le constructeur de données pour garantir que la\n",
        "            distribution de validation reste identique à celle des stages\n",
        "            d'entraînement.\n",
        "            \n"
      ]
    },
    {
      "cell_type": "code",
      "metadata": {},
      "execution_count": null,
      "outputs": [],
      "source": [
        "            from pathlib import Path\n",
        "            import optuna\n",
        "\n",
        "            from physae.factory import build_data_and_model\n",
        "            from physae.optimization import optimise_stage\n",
        "\n",
        "            STUDY_DIR = Path('artifacts/optuna')\n",
        "            STUDY_DIR.mkdir(parents=True, exist_ok=True)\n",
        "            model, train_loader, val_loader = build_data_and_model(config_overrides={'n_train': 4096, 'n_val': 512, 'batch_size': 12})\n",
        "            print('Prêt à lancer une étude Optuna...')\n",
        "            \n"
      ]
    },
    {
      "cell_type": "markdown",
      "metadata": {},
      "source": [
        "            ## 2. Lancement de l'étude\n",
        "\n",
        "            Nous limitons le nombre d'essais pour rester compatible avec un\n",
        "            environnement CPU. Les `sampler` et `pruner` par défaut peuvent être\n",
        "            remplacés si besoin.\n",
        "            \n"
      ]
    },
    {
      "cell_type": "code",
      "metadata": {},
      "execution_count": null,
      "outputs": [],
      "source": [
        "            study = optimise_stage(\n",
        "                'B1',\n",
        "                n_trials=10,\n",
        "                metric='val_loss',\n",
        "                base_model=model,\n",
        "                train_loader=train_loader,\n",
        "                val_loader=val_loader,\n",
        "                study_name='physae-b1-demo',\n",
        "                storage=f\"sqlite:///{(STUDY_DIR/'b1_demo.sqlite').as_posix()}\",\n",
        "                load_if_exists=True,\n",
        "            )\n",
        "            study.best_params\n",
        "            \n"
      ]
    },
    {
      "cell_type": "markdown",
      "metadata": {},
      "source": [
        "            ## 3. Export des meilleurs réglages\n",
        "\n",
        "            Une fois satisfait des performances, on sauvegarde les hyperparamètres\n",
        "            optimalement trouvés dans un fichier YAML utilisable lors de prochaines\n",
        "            sessions.\n",
        "            \n"
      ]
    },
    {
      "cell_type": "code",
      "metadata": {},
      "execution_count": null,
      "outputs": [],
      "source": [
        "            import yaml\n",
        "\n",
        "            best_cfg = {\n",
        "                'stage': 'B1',\n",
        "                'overrides': study.best_params,\n",
        "            }\n",
        "            output_path = STUDY_DIR / 'b1_best_params.yaml'\n",
        "            output_path.write_text(yaml.safe_dump(best_cfg, sort_keys=False))\n",
        "            print('Hyperparamètres sauvegardés dans', output_path)\n",
        "            \n"
      ]
    }
  ],
  "metadata": {
    "kernelspec": {
      "display_name": "Python 3",
      "language": "python",
      "name": "python3"
    },
    "language_info": {
      "name": "python",
      "version": "3.10"
    }
  },
  "nbformat": 4,
  "nbformat_minor": 5
}