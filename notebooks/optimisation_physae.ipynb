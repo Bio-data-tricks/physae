{
 "cells": [
  {
   "cell_type": "markdown",
   "metadata": {},
   "source": [
    "# Optimisation PhysAE avec YAML et Optuna"
   ]
  },
  {
   "cell_type": "markdown",
   "metadata": {},
   "source": [
    "Ce carnet illustre comment configurer les données et les étapes d'entraînement du modèle PhysAE au moyen de fichiers YAML puis comment lancer une recherche d'hyperparamètres avec Optuna.\n\n> 💡 Les cellules sont conçues pour s'exécuter sur un échantillon réduit (quelques centaines de spectres) afin de fournir des démonstrations rapides. Ajustez les tailles et le nombre d'époques pour une expérience complète."
   ]
  },
  {
   "cell_type": "code",
   "execution_count": null,
   "metadata": {},
   "outputs": [],
   "source": [
    "from physae.config_loader import load_data_config, load_stage_config\nfrom physae.factory import build_data_and_model\nfrom physae.training import train_stage_A, train_stage_B2\nfrom physae.optimization import optimise_stage"
   ]
  },
  {
   "cell_type": "code",
   "execution_count": null,
   "metadata": {},
   "outputs": [],
   "source": [
    "# Aperçu du paramétrage YAML par défaut\nbase_data_cfg = load_data_config()\nbase_stage_A = load_stage_config(\"A\")\nbase_stage_B2 = load_stage_config(\"B2\")\nprint(\"Taille d'entraînement par défaut:", base_data_cfg['n_train'])\nprint(\"Époques pour la phase A:", base_stage_A['epochs'])\nprint(\"Paramètres optimisés pendant la phase B2:", base_stage_B2['optuna'].keys())"
   ]
  },
  {
   "cell_type": "code",
   "execution_count": null,
   "metadata": {},
   "outputs": [],
   "source": [
    "# Construction d'un ensemble réduit pour des essais rapides\ndata_overrides = {\n    'n_train': 256,\n    'n_val': 64,\n    'batch_size': 8,\n}\nmodel, train_loader, val_loader = build_data_and_model(config_overrides=data_overrides)"
   ]
  },
  {
   "cell_type": "code",
   "execution_count": null,
   "metadata": {},
   "outputs": [],
   "source": [
    "# Entraînement rapide de la phase A avec une configuration YAML personnalisée\ntrain_stage_A(\n    model,\n    train_loader,\n    val_loader,\n    config_overrides={'epochs': 5},\n    enable_progress_bar=True,\n)"
   ]
  },
  {
   "cell_type": "code",
   "execution_count": null,
   "metadata": {},
   "outputs": [],
   "source": [
    "# Enchaîner sur la phase B2 avec une configuration prédéfinie\ntrain_stage_B2(\n    model,\n    train_loader,\n    val_loader,\n    config_overrides={'epochs': 5},\n    enable_progress_bar=True,\n)"
   ]
  },
  {
   "cell_type": "code",
   "execution_count": null,
   "metadata": {},
   "outputs": [],
   "source": [
    "# Optimisation Optuna de la phase A sur un espace de recherche YAML\nstudy = optimise_stage(\n    'A',\n    n_trials=3,\n    metric='val_loss',\n    data_overrides=data_overrides,\n    stage_overrides={'epochs': 5},\n    show_progress_bar=True,\n)\nprint('Meilleurs hyperparamètres:', study.best_params)\nprint('Score associé:', study.best_value)"
   ]
  }
 ],
 "metadata": {
  "kernelspec": {
   "display_name": "Python 3",
   "language": "python",
   "name": "python3"
  },
  "language_info": {
   "name": "python",
   "version": "3.10"
  }
 },
 "nbformat": 4,
 "nbformat_minor": 5
}
