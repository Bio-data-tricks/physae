{
 "cells": [
  {
   "cell_type": "markdown",
   "metadata": {},
   "source": [
    "# Optimisation PhysAE avec validation et réutilisation des données"
   ]
  },
  {
   "cell_type": "markdown",
   "metadata": {},
   "source": [
    "Ce carnet illustre un flux complet pour contrôler la cohérence des fichiers YAML, préparer un environnement d'entraînement réutilisable, effectuer un entraînement rapide sur les phases A et B2 puis lancer une recherche d'hyperparamètres avec Optuna.\n\n> ⚙️ Les exemples utilisent volontairement de petits jeux de données et quelques époques pour rester rapides. Adaptez les paramètres (tailles, nombres d'époques, etc.) selon vos besoins."
   ]
  },
  {
   "cell_type": "code",
   "execution_count": null,
   "metadata": {},
   "outputs": [],
   "source": [
    "from physae.config_loader import load_data_config, load_stage_config\n",
    "from physae.validation import validate_data_config, validate_stage_config\n",
    "from physae.factory import prepare_training_environment\n",
    "from physae.training import train_stage_A, train_stage_B2\n",
    "from physae.optimization import optimise_stage\n"
   ]
  },
  {
   "cell_type": "code",
   "execution_count": null,
   "metadata": {},
   "outputs": [],
   "source": [
    "# Vérification rapide des fichiers YAML\n",
    "data_cfg = load_data_config()\n",
    "data_report = validate_data_config(data_cfg, name=\"configuration données\")\n",
    "print(data_report)\n",
    "for stage in (\"A\", \"B1\", \"B2\"):\n",
    "    report = validate_stage_config(load_stage_config(stage), name=f\"stage {stage}\")\n",
    "    print(report)\n"
   ]
  },
  {
   "cell_type": "code",
   "execution_count": null,
   "metadata": {},
   "outputs": [],
   "source": [
    "# Construction d'un environnement réutilisable avec un jeu réduit pour des essais rapides\n",
    "data_overrides = {\n",
    "    'n_train': 256,\n",
    "    'n_val': 64,\n",
    "    'batch_size': 8,\n",
    "}\n",
    "env = prepare_training_environment(config_overrides=data_overrides)\n",
    "env.summary()\n"
   ]
  },
  {
   "cell_type": "code",
   "execution_count": null,
   "metadata": {},
   "outputs": [],
   "source": [
    "# Entraînement rapide de la phase A\n",
    "model = env.spawn_model()\n",
    "train_stage_A(\n",
    "    model,\n",
    "    env.train_loader,\n",
    "    env.val_loader,\n",
    "    config_overrides={'epochs': 5},\n",
    "    enable_progress_bar=True,\n",
    ")\n"
   ]
  },
  {
   "cell_type": "code",
   "execution_count": null,
   "metadata": {},
   "outputs": [],
   "source": [
    "# Phase B2 sur le même environnement (les poids de la phase A sont réutilisés)\n",
    "train_stage_B2(\n",
    "    model,\n",
    "    env.train_loader,\n",
    "    env.val_loader,\n",
    "    config_overrides={'epochs': 5},\n",
    "    enable_progress_bar=True,\n",
    ")\n"
   ]
  },
  {
   "cell_type": "code",
   "execution_count": null,
   "metadata": {},
   "outputs": [],
   "source": [
    "# Recherche d'hyperparamètres Optuna sur la phase A\n",
    "study = optimise_stage(\n",
    "    'A',\n",
    "    n_trials=3,\n",
    "    metric='val_loss',\n",
    "    data_overrides=data_overrides,\n",
    "    stage_overrides={'epochs': 5},\n",
    "    reuse_dataloaders=True,\n",
    "    show_progress_bar=True,\n",
    ")\n",
    "print('Meilleurs hyperparamètres:', study.best_params)\n",
    "print('Score associé:', study.best_value)\n",
    "for trial in study.trials:\n",
    "    metrics = trial.user_attrs.get('metrics', {})\n",
    "    val_loss = metrics.get('val_loss')\n",
    "    print(f\"Trial {trial.number}: val_loss={val_loss} params={trial.params}\")\n"
   ]
  },
  {
   "cell_type": "markdown",
   "metadata": {},
   "source": [
    "> 💡 Grâce à `prepare_training_environment` les DataLoader sont partagés entre les différentes étapes et entre les essais Optuna, ce qui réduit nettement le coût de préparation. Utilisez `env.spawn_model()` pour obtenir un nouveau réseau lorsque vous souhaitez recommencer un entraînement depuis zéro."
   ]
  }
 ],
 "metadata": {
  "kernelspec": {
   "display_name": "Python 3",
   "language": "python",
   "name": "python3"
  },
  "language_info": {
   "name": "python",
   "version": "3.10"
  }
 },
 "nbformat": 4,
 "nbformat_minor": 5
}