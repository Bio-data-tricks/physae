{
  "cells": [
    {
      "cell_type": "markdown",
      "metadata": {},
      "source": "# Construction complète des données PhysAE\n\nCe notebook expose des cellules autonomes pour générer des spectres synthétiques, ajuster tous les paramètres physiques et explorer l'impact de chaque choix."
    },
    {
      "cell_type": "markdown",
      "metadata": {},
      "source": "## Imports et constantes\n\nLa cellule suivante regroupe toutes les dépendances nécessaires pour manipuler les données et tracer les spectres."
    },
    {
      "cell_type": "code",
      "execution_count": null,
      "metadata": {},
      "outputs": [],
      "source": "from pprint import pprint\nfrom copy import deepcopy\nfrom pathlib import Path\n\nimport torch\nimport matplotlib.pyplot as plt\n\nfrom physae import config\nfrom physae.config_loader import load_data_config, merge_dicts\nfrom physae.dataset import SpectraDataset\nfrom physae.physics import parse_csv_transitions"
    },
    {
      "cell_type": "markdown",
      "metadata": {},
      "source": "## Chargement et inspection de la configuration par défaut\n\nOn charge la configuration `default.yaml` fournie par PhysAE puis on en extrait les sections utiles pour préparer un jeu de données."
    },
    {
      "cell_type": "code",
      "execution_count": null,
      "metadata": {},
      "outputs": [],
      "source": "data_cfg = load_data_config(name=\"default\")\nprint(\"Clés disponibles :\")\nprint(sorted(data_cfg.keys()))\n\nprint(\"\nPlages d'entraînement (avant expansion) :\")\npprint(data_cfg['train_ranges_base'])\n\nprint(\"\nParamètres de bruit (train) :\")\npprint(data_cfg['noise']['train'])"
    },
    {
      "cell_type": "markdown",
      "metadata": {},
      "source": "## Définition d'un scénario personnalisé\n\nOn peut modifier **toutes** les plages de tirage, le profil de bruit et le nombre d'échantillons en effectuant des copies profondes de la configuration initiale."
    },
    {
      "cell_type": "code",
      "execution_count": null,
      "metadata": {},
      "outputs": [],
      "source": "custom_cfg = deepcopy(data_cfg)\ncustom_cfg['n_points'] = 512  # grille plus légère pour l'exploration rapide\ncustom_cfg['n_train'] = 4096\ncustom_cfg['n_val'] = 512\ncustom_cfg['batch_size'] = 32\n\n# Ajustement fin de chaque intervalle physique\ncustom_cfg['train_ranges'] = deepcopy(custom_cfg['train_ranges_base'])\ncustom_cfg['train_ranges']['mf_CH4'] = [5e-6, 4e-5]\ncustom_cfg['train_ranges']['baseline1'] = [-5e-4, -2e-4]\ncustom_cfg['train_ranges']['baseline2'] = [-5e-8, -2e-8]\ncustom_cfg['train_ranges']['P'] = [350, 650]\ncustom_cfg['train_ranges']['T'] = [300.0, 320.0]\n\n# Bruit plus agressif pour visualiser son impact\ncustom_cfg['noise']['train'] = {\n    'std_add_range': [0.0, 0.03],\n    'std_mult_range': [0.0, 0.02],\n    'p_drift': 0.3,\n    'drift_sigma_range': [12.0, 90.0],\n    'drift_amp_range': [0.002, 0.06],\n    'p_fringes': 0.5,\n    'n_fringes_range': [1, 3],\n    'fringe_freq_range': [0.2, 35.0],\n    'fringe_amp_range': [0.001, 0.02],\n    'p_spikes': 0.2,\n    'spikes_count_range': [1, 4],\n    'spike_amp_range': [0.001, 0.5],\n    'spike_width_range': [1.0, 15.0],\n    'clip': [0.0, 1.2],\n}\n\npprint(custom_cfg['train_ranges'])"
    },
    {
      "cell_type": "markdown",
      "metadata": {},
      "source": "## Préparation des coefficients spectraux\n\nOn fournit explicitement le polynôme `poly_freq_CH4` et les transitions CH₄ utilisées par défaut. Rien n'empêche de remplacer ces coefficients par un autre fichier pour couvrir d'autres gaz."
    },
    {
      "cell_type": "code",
      "execution_count": null,
      "metadata": {},
      "outputs": [],
      "source": "poly_freq_coeffs = [-2.3614803e-07, 1.2103413e-10, -3.1617856e-14]\ntransitions_dict = {'CH4': parse_csv_transitions(\"6;1;3085.861015;1.013E-19;0.06;0.078;219.9411;0.73;-0.00712;0.0;0.0221;0.96;0.584;1.12\\n6;1;3085.832038;1.693E-19;0.0597;0.078;219.9451;0.73;-0.00712;0.0;0.0222;0.91;0.173;1.11\\n6;1;3085.893769;1.011E-19;0.0602;0.078;219.9366;0.73;-0.00711;0.0;0.0184;1.14;-0.516;1.37\\n6;1;3086.030985;1.659E-19;0.0595;0.078;219.9197;0.73;-0.00711;0.0;0.0193;1.17;-0.204;0.97\\n6;1;3086.071879;1.000E-19;0.0585;0.078;219.9149;0.73;-0.00703;0.0;0.0232;1.09;-0.0689;0.82\\n6;1;3086.085994;6.671E-20;0.055;0.078;219.9133;0.70;-0.00610;0.0;0.0300;0.54;0.00;0.0\")}\n\n# Normalisation globale utilisée par SpectraDataset\nconfig.set_norm_params({name: tuple(values) for name, values in custom_cfg['train_ranges'].items()})"
    },
    {
      "cell_type": "markdown",
      "metadata": {},
      "source": "## Instanciation d'un `SpectraDataset` complet\n\nCette cellule construit deux jeux de données indépendants (train et validation) en appliquant toutes les modifications ci-dessus. Chaque argument peut être remplacé dynamiquement."
    },
    {
      "cell_type": "code",
      "execution_count": null,
      "metadata": {},
      "outputs": [],
      "source": "def _to_tuple_ranges(mapping):\n    return {k: tuple(v) for k, v in mapping.items()}\n\nnoise_train = {k: tuple(v) if isinstance(v, list) else v for k, v in custom_cfg['noise']['train'].items()}\nnoise_val = {k: tuple(v) if isinstance(v, list) else v for k, v in custom_cfg['noise']['val'].items()}\n\ndataset_train = SpectraDataset(\n    n_samples=custom_cfg['n_train'],\n    num_points=custom_cfg['n_points'],\n    poly_freq_CH4=poly_freq_coeffs,\n    transitions_dict=transitions_dict,\n    sample_ranges=_to_tuple_ranges(custom_cfg['train_ranges']),\n    strict_check=True,\n    with_noise=True,\n    noise_profile=noise_train,\n    freeze_noise=False,\n)\n\ndataset_val = SpectraDataset(\n    n_samples=custom_cfg['n_val'],\n    num_points=custom_cfg['n_points'],\n    poly_freq_CH4=poly_freq_coeffs,\n    transitions_dict=transitions_dict,\n    sample_ranges=_to_tuple_ranges(custom_cfg['val_ranges']),\n    strict_check=True,\n    with_noise=True,\n    noise_profile=noise_val,\n    freeze_noise=True,\n)\n\nlen(dataset_train), len(dataset_val)"
    },
    {
      "cell_type": "markdown",
      "metadata": {},
      "source": "## Visualisation interactive d'échantillons\n\nCe bloc montre comment produire des spectres propres/bruyants et visualiser les paramètres tirés. Les valeurs peuvent être fixées en remplaçant n'importe quelle plage par un intervalle dégénéré."
    },
    {
      "cell_type": "code",
      "execution_count": null,
      "metadata": {},
      "outputs": [],
      "source": "def plot_example(idx=0):\n    sample = dataset_train[idx]\n    noisy = sample['noisy_spectra'].numpy()\n    clean = sample['clean_spectra'].numpy()\n    params = sample['params'].numpy()\n    fig, ax = plt.subplots(figsize=(10, 4))\n    ax.plot(noisy, label='bruité')\n    ax.plot(clean, label='propre', alpha=0.7)\n    ax.set_title(f'Echantillon {idx}')\n    ax.set_xlabel('Indice de la grille')\n    ax.set_ylabel('Transmission normalisée')\n    ax.legend()\n    fig.tight_layout()\n    return fig, ax, params\n\nplot_example(0)"
    },
    {
      "cell_type": "markdown",
      "metadata": {},
      "source": "## Balayage de paramètres ciblé\n\nLe helper suivant fixe un paramètre à une valeur choisie et régénère instantanément un spectre afin de visualiser son impact. On peut faire varier simultanément plusieurs paramètres en passant un dictionnaire d'overrides."
    },
    {
      "cell_type": "code",
      "execution_count": null,
      "metadata": {},
      "outputs": [],
      "source": "def generate_spectrum(overrides=None, *, with_noise=False):\n    overrides = overrides or {}\n    forced_ranges = _to_tuple_ranges(custom_cfg['train_ranges'])\n    for key, value in overrides.items():\n        forced_ranges[key] = (value, value)\n\n    dataset = SpectraDataset(\n        n_samples=1,\n        num_points=custom_cfg['n_points'],\n        poly_freq_CH4=poly_freq_coeffs,\n        transitions_dict=transitions_dict,\n        sample_ranges=forced_ranges,\n        strict_check=False,\n        with_noise=with_noise,\n        noise_profile=noise_train,\n        freeze_noise=True,\n    )\n    sample = dataset[0]\n    return sample['noisy_spectra'].numpy(), sample['clean_spectra'].numpy()\n\ndef sweep_parameter(name, values, *, with_noise=False):\n    fig, ax = plt.subplots(figsize=(10, 4))\n    for value in values:\n        noisy, clean = generate_spectrum({name: value}, with_noise=with_noise)\n        ax.plot(clean, label=f'{name}={value}', alpha=0.7)\n    ax.set_title(f'Impact de {name}')\n    ax.set_xlabel('Indice de la grille')\n    ax.set_ylabel('Transmission normalisée')\n    ax.legend()\n    fig.tight_layout()\n    return fig, ax\n\n# Exemple : variation de la concentration de CH4\nsweep_parameter('mf_CH4', [5e-6, 1e-5, 2e-5, 3.5e-5])"
    }
  ],
  "metadata": {
    "kernelspec": {
      "display_name": "Python 3",
      "language": "python",
      "name": "python3"
    },
    "language_info": {
      "name": "python",
      "version": "3.10"
    }
  },
  "nbformat": 4,
  "nbformat_minor": 5
}