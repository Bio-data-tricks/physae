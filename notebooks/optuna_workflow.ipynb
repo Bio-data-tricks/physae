{
 "cells": [
  {
   "cell_type": "markdown",
   "metadata": {},
   "source": [
    "# Optuna pour PhysAE\n",
    "Ce notebook fournit trois scénarios prêts à l'emploi pour lancer des optimisations Optuna : stage A seul, stage B (B1+B2) et la chaîne A→B avec possibilité d'affiner les résultats.\n",
    "Utilisez les cellules suivantes pour configurer vos essais."
   ]
  },
  {
   "cell_type": "code",
   "execution_count": null,
   "metadata": {},
   "outputs": [],
   "source": [
    "import json\n",
    "import pandas as pd\n",
    "from physae.parameter_catalog import describe_parameters, list_stage_parameters\n",
    "from physae.simple_workflows import OptunaRunConfig, run_optuna"
   ]
  },
  {
   "cell_type": "markdown",
   "metadata": {},
   "source": [
    "## Paramètres par stage\n",
    "Référence rapide des hyperparamètres optimisables."
   ]
  },
  {
   "cell_type": "code",
   "execution_count": null,
   "metadata": {},
   "outputs": [],
   "source": [
    "stage_tables = {name: pd.DataFrame(describe_parameters(list_stage_parameters(name))) for name in (\"A\", \"B1\", \"B2\")}\n",
    "stage_tables"
   ]
  },
  {
   "cell_type": "markdown",
   "metadata": {},
   "source": [
    "## Overrides globaux pour les données\n",
    "Ajustez les bornes ou la taille des jeux si nécessaire."
   ]
  },
  {
   "cell_type": "code",
   "execution_count": null,
   "metadata": {},
   "outputs": [],
   "source": [
    "data_overrides = {\n",
    "    # \"batch_size\": 32,\n",
    "    # \"n_train\": 60000,\n",
    "}\n"
   ]
  },
  {
   "cell_type": "markdown",
   "metadata": {},
   "source": [
    "## Overrides spécifiques à un stage\n",
    "Les clés suivent la notation `stage:chemin`. Exemple : `\"B2:epochs\": 20`."
   ]
  },
  {
   "cell_type": "code",
   "execution_count": null,
   "metadata": {},
   "outputs": [],
   "source": [
    "stage_overrides = {\n",
    "    # \"A\": {\"epochs\": 25},\n",
    "    # \"B2\": {\"delta_scale\": 0.09},\n",
    "}\n"
   ]
  },
  {
   "cell_type": "markdown",
   "metadata": {},
   "source": [
    "## Scénario 1 : Optuna sur le stage A\n",
    "Lancez l'optimisation sur 20 essais (modifiable via `n_trials`)."
   ]
  },
  {
   "cell_type": "code",
   "execution_count": null,
   "metadata": {},
   "outputs": [],
   "source": [
    "config_A = OptunaRunConfig(\n",
    "    stages=[\"A\"],\n",
    "    n_trials=20,\n",
    "    metric=\"val_loss\",\n",
    "    direction=\"minimize\",\n",
    "    data_overrides=data_overrides,\n",
    "    stage_overrides=stage_overrides,\n",
    "    sampler=\"tpe\",\n",
    "    pruner=\"median\",\n",
    "    output_dir=\"optuna_stage_A\",\n",
    ")\n",
    "results_A, cumulative_A = run_optuna(config_A)\n",
    "{stage: study.study.best_value for stage, study in {k: v.study for k, v in results_A.items()}.items()}, cumulative_A"
   ]
  },
  {
   "cell_type": "markdown",
   "metadata": {},
   "source": [
    "## Scénario 2 : Optuna sur le stage B (B1+B2)\n",
    "Le stage logique `B` optimise successivement B1 puis B2 en réutilisant les meilleurs paramètres."
   ]
  },
  {
   "cell_type": "code",
   "execution_count": null,
   "metadata": {},
   "outputs": [],
   "source": [
    "config_B = OptunaRunConfig(\n",
    "    stages=[\"B\"],\n",
    "    n_trials=15,\n",
    "    metric=\"val_loss\",\n",
    "    direction=\"minimize\",\n",
    "    data_overrides=data_overrides,\n",
    "    stage_overrides=stage_overrides,\n",
    "    sampler=\"tpe\",\n",
    "    pruner=None,\n",
    "    output_dir=\"optuna_stage_B\",\n",
    ")\n",
    "results_B, cumulative_B = run_optuna(config_B)\n",
    "{stage: study.study.best_value for stage, study in {k: v.study for k, v in results_B.items()}.items()}, cumulative_B"
   ]
  },
  {
   "cell_type": "markdown",
   "metadata": {},
   "source": [
    "## Scénario 3 : Chaîne A + B avec fine-tuning B2\n",
    "Cette configuration optimise d'abord A puis B et renvoie les overrides cumulés pour pouvoir lancer un fine-tuning manuel sur B2."
   ]
  },
  {
   "cell_type": "code",
   "execution_count": null,
   "metadata": {},
   "outputs": [],
   "source": [
    "config_AB = OptunaRunConfig(\n",
    "    stages=[\"A\", \"B\"],\n",
    "    n_trials=10,\n",
    "    metric=\"val_loss\",\n",
    "    direction=\"minimize\",\n",
    "    data_overrides=data_overrides,\n",
    "    stage_overrides=stage_overrides,\n",
    "    sampler=\"random\",\n",
    "    pruner=\"successivehalving\",\n",
    "    output_dir=\"optuna_stage_AB\",\n",
    ")\n",
    "results_AB, cumulative_AB = run_optuna(config_AB)\n",
    "{stage: study.study.best_value for stage, study in {k: v.study for k, v in results_AB.items()}.items()}, cumulative_AB"
   ]
  }
 ],
 "metadata": {
  "kernelspec": {
   "display_name": "Python 3",
   "language": "python",
   "name": "python3"
  },
  "language_info": {
   "name": "python",
   "version": "3.10"
  }
 },
 "nbformat": 4,
 "nbformat_minor": 5
}
